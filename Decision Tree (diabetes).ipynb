{
 "cells": [
  {
   "cell_type": "markdown",
   "metadata": {},
   "source": [
    "# Decision Tree -Diabetes Dataset\n"
   ]
  },
  {
   "cell_type": "markdown",
   "metadata": {},
   "source": [
    "Feature descripions below:\n",
    "* xpregnant = number of times pregnant\n",
    "* glucose = plusma glucose concentration a 2 hours in an oral glucose tolerance test\n",
    "* diastolic = Diastolic blood pressure (mm Hg)\n",
    "* tricep = Triceps skin fold thikness (mm)\n",
    "* insulin = 2-Hour serum insulin (mu U/ml)\n",
    "* bmi = Body mass index (weight in kg/(height in m)^2)\n",
    "* pedigree = a function which scores likelihood of diabetes based on family history\n",
    "* age = Age (years)\n",
    "* diabetes = Target/Dependent variable : 1:tested positive for diabetes 0:tested negative for diabetes"
   ]
  },
  {
   "cell_type": "code",
   "execution_count": 1,
   "metadata": {},
   "outputs": [],
   "source": [
    "import warnings\n",
    "warnings.filterwarnings('ignore')"
   ]
  },
  {
   "cell_type": "code",
   "execution_count": 2,
   "metadata": {
    "scrolled": true
   },
   "outputs": [
    {
     "data": {
      "text/html": [
       "<div>\n",
       "<style scoped>\n",
       "    .dataframe tbody tr th:only-of-type {\n",
       "        vertical-align: middle;\n",
       "    }\n",
       "\n",
       "    .dataframe tbody tr th {\n",
       "        vertical-align: top;\n",
       "    }\n",
       "\n",
       "    .dataframe thead th {\n",
       "        text-align: right;\n",
       "    }\n",
       "</style>\n",
       "<table border=\"1\" class=\"dataframe\">\n",
       "  <thead>\n",
       "    <tr style=\"text-align: right;\">\n",
       "      <th></th>\n",
       "      <th>xpregnant</th>\n",
       "      <th>glucose</th>\n",
       "      <th>diastolic</th>\n",
       "      <th>tricep</th>\n",
       "      <th>insulin</th>\n",
       "      <th>bmi</th>\n",
       "      <th>pedigree</th>\n",
       "      <th>age</th>\n",
       "      <th>diabetes</th>\n",
       "    </tr>\n",
       "  </thead>\n",
       "  <tbody>\n",
       "    <tr>\n",
       "      <th>0</th>\n",
       "      <td>2</td>\n",
       "      <td>108</td>\n",
       "      <td>62</td>\n",
       "      <td>32</td>\n",
       "      <td>56</td>\n",
       "      <td>25.2</td>\n",
       "      <td>0.128</td>\n",
       "      <td>21</td>\n",
       "      <td>0</td>\n",
       "    </tr>\n",
       "    <tr>\n",
       "      <th>1</th>\n",
       "      <td>0</td>\n",
       "      <td>137</td>\n",
       "      <td>68</td>\n",
       "      <td>14</td>\n",
       "      <td>148</td>\n",
       "      <td>24.8</td>\n",
       "      <td>0.143</td>\n",
       "      <td>21</td>\n",
       "      <td>0</td>\n",
       "    </tr>\n",
       "    <tr>\n",
       "      <th>2</th>\n",
       "      <td>1</td>\n",
       "      <td>89</td>\n",
       "      <td>66</td>\n",
       "      <td>23</td>\n",
       "      <td>94</td>\n",
       "      <td>28.1</td>\n",
       "      <td>0.167</td>\n",
       "      <td>21</td>\n",
       "      <td>0</td>\n",
       "    </tr>\n",
       "    <tr>\n",
       "      <th>3</th>\n",
       "      <td>0</td>\n",
       "      <td>139</td>\n",
       "      <td>62</td>\n",
       "      <td>17</td>\n",
       "      <td>210</td>\n",
       "      <td>22.1</td>\n",
       "      <td>0.207</td>\n",
       "      <td>21</td>\n",
       "      <td>0</td>\n",
       "    </tr>\n",
       "    <tr>\n",
       "      <th>4</th>\n",
       "      <td>4</td>\n",
       "      <td>99</td>\n",
       "      <td>76</td>\n",
       "      <td>15</td>\n",
       "      <td>51</td>\n",
       "      <td>23.2</td>\n",
       "      <td>0.223</td>\n",
       "      <td>21</td>\n",
       "      <td>0</td>\n",
       "    </tr>\n",
       "  </tbody>\n",
       "</table>\n",
       "</div>"
      ],
      "text/plain": [
       "   xpregnant  glucose  diastolic  tricep  insulin   bmi  pedigree  age  \\\n",
       "0          2      108         62      32       56  25.2     0.128   21   \n",
       "1          0      137         68      14      148  24.8     0.143   21   \n",
       "2          1       89         66      23       94  28.1     0.167   21   \n",
       "3          0      139         62      17      210  22.1     0.207   21   \n",
       "4          4       99         76      15       51  23.2     0.223   21   \n",
       "\n",
       "   diabetes  \n",
       "0         0  \n",
       "1         0  \n",
       "2         0  \n",
       "3         0  \n",
       "4         0  "
      ]
     },
     "execution_count": 2,
     "metadata": {},
     "output_type": "execute_result"
    }
   ],
   "source": [
    "import pandas as pd\n",
    "import seaborn as sns\n",
    "from sklearn import tree\n",
    "import matplotlib.pyplot as plt\n",
    "\n",
    "df = pd.read_csv('diabetes.csv')\n",
    "df.head()"
   ]
  },
  {
   "cell_type": "code",
   "execution_count": 3,
   "metadata": {},
   "outputs": [
    {
     "data": {
      "text/plain": [
       "(392, 9)"
      ]
     },
     "execution_count": 3,
     "metadata": {},
     "output_type": "execute_result"
    }
   ],
   "source": [
    "df.shape"
   ]
  },
  {
   "cell_type": "code",
   "execution_count": 4,
   "metadata": {},
   "outputs": [
    {
     "data": {
      "text/plain": [
       "xpregnant    0\n",
       "glucose      0\n",
       "diastolic    0\n",
       "tricep       0\n",
       "insulin      0\n",
       "bmi          0\n",
       "pedigree     0\n",
       "age          0\n",
       "diabetes     0\n",
       "dtype: int64"
      ]
     },
     "execution_count": 4,
     "metadata": {},
     "output_type": "execute_result"
    }
   ],
   "source": [
    "df.isnull().sum()"
   ]
  },
  {
   "cell_type": "code",
   "execution_count": 5,
   "metadata": {},
   "outputs": [
    {
     "data": {
      "text/html": [
       "<div>\n",
       "<style scoped>\n",
       "    .dataframe tbody tr th:only-of-type {\n",
       "        vertical-align: middle;\n",
       "    }\n",
       "\n",
       "    .dataframe tbody tr th {\n",
       "        vertical-align: top;\n",
       "    }\n",
       "\n",
       "    .dataframe thead th {\n",
       "        text-align: right;\n",
       "    }\n",
       "</style>\n",
       "<table border=\"1\" class=\"dataframe\">\n",
       "  <thead>\n",
       "    <tr style=\"text-align: right;\">\n",
       "      <th></th>\n",
       "      <th>xpregnant</th>\n",
       "      <th>glucose</th>\n",
       "      <th>diastolic</th>\n",
       "      <th>tricep</th>\n",
       "      <th>insulin</th>\n",
       "      <th>bmi</th>\n",
       "      <th>pedigree</th>\n",
       "      <th>age</th>\n",
       "      <th>diabetes</th>\n",
       "    </tr>\n",
       "  </thead>\n",
       "  <tbody>\n",
       "    <tr>\n",
       "      <th>0</th>\n",
       "      <td>2</td>\n",
       "      <td>108</td>\n",
       "      <td>62</td>\n",
       "      <td>32</td>\n",
       "      <td>56</td>\n",
       "      <td>25.2</td>\n",
       "      <td>0.128</td>\n",
       "      <td>21</td>\n",
       "      <td>0</td>\n",
       "    </tr>\n",
       "    <tr>\n",
       "      <th>1</th>\n",
       "      <td>0</td>\n",
       "      <td>137</td>\n",
       "      <td>68</td>\n",
       "      <td>14</td>\n",
       "      <td>148</td>\n",
       "      <td>24.8</td>\n",
       "      <td>0.143</td>\n",
       "      <td>21</td>\n",
       "      <td>0</td>\n",
       "    </tr>\n",
       "    <tr>\n",
       "      <th>2</th>\n",
       "      <td>1</td>\n",
       "      <td>89</td>\n",
       "      <td>66</td>\n",
       "      <td>23</td>\n",
       "      <td>94</td>\n",
       "      <td>28.1</td>\n",
       "      <td>0.167</td>\n",
       "      <td>21</td>\n",
       "      <td>0</td>\n",
       "    </tr>\n",
       "    <tr>\n",
       "      <th>3</th>\n",
       "      <td>0</td>\n",
       "      <td>139</td>\n",
       "      <td>62</td>\n",
       "      <td>17</td>\n",
       "      <td>210</td>\n",
       "      <td>22.1</td>\n",
       "      <td>0.207</td>\n",
       "      <td>21</td>\n",
       "      <td>0</td>\n",
       "    </tr>\n",
       "    <tr>\n",
       "      <th>4</th>\n",
       "      <td>4</td>\n",
       "      <td>99</td>\n",
       "      <td>76</td>\n",
       "      <td>15</td>\n",
       "      <td>51</td>\n",
       "      <td>23.2</td>\n",
       "      <td>0.223</td>\n",
       "      <td>21</td>\n",
       "      <td>0</td>\n",
       "    </tr>\n",
       "  </tbody>\n",
       "</table>\n",
       "</div>"
      ],
      "text/plain": [
       "   xpregnant  glucose  diastolic  tricep  insulin   bmi  pedigree  age  \\\n",
       "0          2      108         62      32       56  25.2     0.128   21   \n",
       "1          0      137         68      14      148  24.8     0.143   21   \n",
       "2          1       89         66      23       94  28.1     0.167   21   \n",
       "3          0      139         62      17      210  22.1     0.207   21   \n",
       "4          4       99         76      15       51  23.2     0.223   21   \n",
       "\n",
       "   diabetes  \n",
       "0         0  \n",
       "1         0  \n",
       "2         0  \n",
       "3         0  \n",
       "4         0  "
      ]
     },
     "execution_count": 5,
     "metadata": {},
     "output_type": "execute_result"
    }
   ],
   "source": [
    "df.head()"
   ]
  },
  {
   "cell_type": "code",
   "execution_count": 6,
   "metadata": {},
   "outputs": [
    {
     "data": {
      "text/html": [
       "<div>\n",
       "<style scoped>\n",
       "    .dataframe tbody tr th:only-of-type {\n",
       "        vertical-align: middle;\n",
       "    }\n",
       "\n",
       "    .dataframe tbody tr th {\n",
       "        vertical-align: top;\n",
       "    }\n",
       "\n",
       "    .dataframe thead th {\n",
       "        text-align: right;\n",
       "    }\n",
       "</style>\n",
       "<table border=\"1\" class=\"dataframe\">\n",
       "  <thead>\n",
       "    <tr style=\"text-align: right;\">\n",
       "      <th></th>\n",
       "      <th>count</th>\n",
       "      <th>mean</th>\n",
       "      <th>std</th>\n",
       "      <th>min</th>\n",
       "      <th>25%</th>\n",
       "      <th>50%</th>\n",
       "      <th>75%</th>\n",
       "      <th>max</th>\n",
       "    </tr>\n",
       "  </thead>\n",
       "  <tbody>\n",
       "    <tr>\n",
       "      <th>xpregnant</th>\n",
       "      <td>392.0</td>\n",
       "      <td>3.301020</td>\n",
       "      <td>3.211424</td>\n",
       "      <td>0.000</td>\n",
       "      <td>1.00000</td>\n",
       "      <td>2.0000</td>\n",
       "      <td>5.000</td>\n",
       "      <td>17.00</td>\n",
       "    </tr>\n",
       "    <tr>\n",
       "      <th>glucose</th>\n",
       "      <td>392.0</td>\n",
       "      <td>122.627551</td>\n",
       "      <td>30.860781</td>\n",
       "      <td>56.000</td>\n",
       "      <td>99.00000</td>\n",
       "      <td>119.0000</td>\n",
       "      <td>143.000</td>\n",
       "      <td>198.00</td>\n",
       "    </tr>\n",
       "    <tr>\n",
       "      <th>diastolic</th>\n",
       "      <td>392.0</td>\n",
       "      <td>70.663265</td>\n",
       "      <td>12.496092</td>\n",
       "      <td>24.000</td>\n",
       "      <td>62.00000</td>\n",
       "      <td>70.0000</td>\n",
       "      <td>78.000</td>\n",
       "      <td>110.00</td>\n",
       "    </tr>\n",
       "    <tr>\n",
       "      <th>tricep</th>\n",
       "      <td>392.0</td>\n",
       "      <td>29.145408</td>\n",
       "      <td>10.516424</td>\n",
       "      <td>7.000</td>\n",
       "      <td>21.00000</td>\n",
       "      <td>29.0000</td>\n",
       "      <td>37.000</td>\n",
       "      <td>63.00</td>\n",
       "    </tr>\n",
       "    <tr>\n",
       "      <th>insulin</th>\n",
       "      <td>392.0</td>\n",
       "      <td>156.056122</td>\n",
       "      <td>118.841690</td>\n",
       "      <td>14.000</td>\n",
       "      <td>76.75000</td>\n",
       "      <td>125.5000</td>\n",
       "      <td>190.000</td>\n",
       "      <td>846.00</td>\n",
       "    </tr>\n",
       "    <tr>\n",
       "      <th>bmi</th>\n",
       "      <td>392.0</td>\n",
       "      <td>33.086224</td>\n",
       "      <td>7.027659</td>\n",
       "      <td>18.200</td>\n",
       "      <td>28.40000</td>\n",
       "      <td>33.2000</td>\n",
       "      <td>37.100</td>\n",
       "      <td>67.10</td>\n",
       "    </tr>\n",
       "    <tr>\n",
       "      <th>pedigree</th>\n",
       "      <td>392.0</td>\n",
       "      <td>0.523046</td>\n",
       "      <td>0.345488</td>\n",
       "      <td>0.085</td>\n",
       "      <td>0.26975</td>\n",
       "      <td>0.4495</td>\n",
       "      <td>0.687</td>\n",
       "      <td>2.42</td>\n",
       "    </tr>\n",
       "    <tr>\n",
       "      <th>age</th>\n",
       "      <td>392.0</td>\n",
       "      <td>30.864796</td>\n",
       "      <td>10.200777</td>\n",
       "      <td>21.000</td>\n",
       "      <td>23.00000</td>\n",
       "      <td>27.0000</td>\n",
       "      <td>36.000</td>\n",
       "      <td>81.00</td>\n",
       "    </tr>\n",
       "    <tr>\n",
       "      <th>diabetes</th>\n",
       "      <td>392.0</td>\n",
       "      <td>0.331633</td>\n",
       "      <td>0.471401</td>\n",
       "      <td>0.000</td>\n",
       "      <td>0.00000</td>\n",
       "      <td>0.0000</td>\n",
       "      <td>1.000</td>\n",
       "      <td>1.00</td>\n",
       "    </tr>\n",
       "  </tbody>\n",
       "</table>\n",
       "</div>"
      ],
      "text/plain": [
       "           count        mean         std     min       25%       50%      75%  \\\n",
       "xpregnant  392.0    3.301020    3.211424   0.000   1.00000    2.0000    5.000   \n",
       "glucose    392.0  122.627551   30.860781  56.000  99.00000  119.0000  143.000   \n",
       "diastolic  392.0   70.663265   12.496092  24.000  62.00000   70.0000   78.000   \n",
       "tricep     392.0   29.145408   10.516424   7.000  21.00000   29.0000   37.000   \n",
       "insulin    392.0  156.056122  118.841690  14.000  76.75000  125.5000  190.000   \n",
       "bmi        392.0   33.086224    7.027659  18.200  28.40000   33.2000   37.100   \n",
       "pedigree   392.0    0.523046    0.345488   0.085   0.26975    0.4495    0.687   \n",
       "age        392.0   30.864796   10.200777  21.000  23.00000   27.0000   36.000   \n",
       "diabetes   392.0    0.331633    0.471401   0.000   0.00000    0.0000    1.000   \n",
       "\n",
       "              max  \n",
       "xpregnant   17.00  \n",
       "glucose    198.00  \n",
       "diastolic  110.00  \n",
       "tricep      63.00  \n",
       "insulin    846.00  \n",
       "bmi         67.10  \n",
       "pedigree     2.42  \n",
       "age         81.00  \n",
       "diabetes     1.00  "
      ]
     },
     "execution_count": 6,
     "metadata": {},
     "output_type": "execute_result"
    }
   ],
   "source": [
    "df.describe().transpose()"
   ]
  },
  {
   "cell_type": "code",
   "execution_count": 7,
   "metadata": {},
   "outputs": [
    {
     "data": {
      "text/plain": [
       "<Axes: xlabel='xpregnant', ylabel='Count'>"
      ]
     },
     "execution_count": 7,
     "metadata": {},
     "output_type": "execute_result"
    },
    {
     "data": {
      "image/png": "[encoded data removed]",
      "text/plain": [
       "<Figure size 640x480 with 1 Axes>"
      ]
     },
     "metadata": {},
     "output_type": "display_data"
    }
   ],
   "source": [
    "sns.histplot(df['xpregnant'], kde=True)"
   ]
  },
  {
   "cell_type": "code",
   "execution_count": 8,
   "metadata": {},
   "outputs": [
    {
     "data": {
      "text/plain": [
       "<Axes: xlabel='bmi', ylabel='Count'>"
      ]
     },
     "execution_count": 8,
     "metadata": {},
     "output_type": "execute_result"
    },
    {
     "data": {
      "image/png": "[encoded data removed]",
      "text/plain": [
       "<Figure size 640x480 with 1 Axes>"
      ]
     },
     "metadata": {},
     "output_type": "display_data"
    }
   ],
   "source": [
    "sns.histplot(df['bmi'], kde=True)"
   ]
  },
  {
   "cell_type": "code",
   "execution_count": 9,
   "metadata": {},
   "outputs": [
    {
     "data": {
      "text/plain": [
       "0    262\n",
       "1    130\n",
       "Name: diabetes, dtype: int64"
      ]
     },
     "execution_count": 9,
     "metadata": {},
     "output_type": "execute_result"
    }
   ],
   "source": [
    "\n",
    "df['diabetes'].value_counts()"
   ]
  },
  {
   "cell_type": "code",
   "execution_count": 10,
   "metadata": {},
   "outputs": [
    {
     "data": {
      "text/plain": [
       "Index(['xpregnant', 'glucose', 'diastolic', 'tricep', 'insulin', 'bmi',\n",
       "       'pedigree', 'age', 'diabetes'],\n",
       "      dtype='object')"
      ]
     },
     "execution_count": 10,
     "metadata": {},
     "output_type": "execute_result"
    }
   ],
   "source": [
    "df.columns"
   ]
  },
  {
   "cell_type": "code",
   "execution_count": 11,
   "metadata": {},
   "outputs": [
    {
     "data": {
      "text/html": [
       "<div>\n",
       "<style scoped>\n",
       "    .dataframe tbody tr th:only-of-type {\n",
       "        vertical-align: middle;\n",
       "    }\n",
       "\n",
       "    .dataframe tbody tr th {\n",
       "        vertical-align: top;\n",
       "    }\n",
       "\n",
       "    .dataframe thead th {\n",
       "        text-align: right;\n",
       "    }\n",
       "</style>\n",
       "<table border=\"1\" class=\"dataframe\">\n",
       "  <thead>\n",
       "    <tr style=\"text-align: right;\">\n",
       "      <th></th>\n",
       "      <th>xpregnant</th>\n",
       "      <th>glucose</th>\n",
       "      <th>diastolic</th>\n",
       "      <th>tricep</th>\n",
       "      <th>insulin</th>\n",
       "      <th>bmi</th>\n",
       "      <th>pedigree</th>\n",
       "      <th>age</th>\n",
       "    </tr>\n",
       "    <tr>\n",
       "      <th>diabetes</th>\n",
       "      <th></th>\n",
       "      <th></th>\n",
       "      <th></th>\n",
       "      <th></th>\n",
       "      <th></th>\n",
       "      <th></th>\n",
       "      <th></th>\n",
       "      <th></th>\n",
       "    </tr>\n",
       "  </thead>\n",
       "  <tbody>\n",
       "    <tr>\n",
       "      <th>0</th>\n",
       "      <td>2.721374</td>\n",
       "      <td>111.431298</td>\n",
       "      <td>68.969466</td>\n",
       "      <td>27.251908</td>\n",
       "      <td>130.854962</td>\n",
       "      <td>31.750763</td>\n",
       "      <td>0.472168</td>\n",
       "      <td>28.347328</td>\n",
       "    </tr>\n",
       "    <tr>\n",
       "      <th>1</th>\n",
       "      <td>4.469231</td>\n",
       "      <td>145.192308</td>\n",
       "      <td>74.076923</td>\n",
       "      <td>32.961538</td>\n",
       "      <td>206.846154</td>\n",
       "      <td>35.777692</td>\n",
       "      <td>0.625585</td>\n",
       "      <td>35.938462</td>\n",
       "    </tr>\n",
       "  </tbody>\n",
       "</table>\n",
       "</div>"
      ],
      "text/plain": [
       "          xpregnant     glucose  diastolic     tricep     insulin        bmi  \\\n",
       "diabetes                                                                       \n",
       "0          2.721374  111.431298  68.969466  27.251908  130.854962  31.750763   \n",
       "1          4.469231  145.192308  74.076923  32.961538  206.846154  35.777692   \n",
       "\n",
       "          pedigree        age  \n",
       "diabetes                       \n",
       "0         0.472168  28.347328  \n",
       "1         0.625585  35.938462  "
      ]
     },
     "execution_count": 11,
     "metadata": {},
     "output_type": "execute_result"
    }
   ],
   "source": [
    "temp = df[['xpregnant', 'glucose', 'diastolic', 'tricep', 'insulin', 'bmi','pedigree','age','diabetes']].copy()\n",
    "temp.groupby(['diabetes']).mean() "
   ]
  },
  {
   "cell_type": "code",
   "execution_count": 12,
   "metadata": {},
   "outputs": [
    {
     "data": {
      "text/html": [
       "<div>\n",
       "<style scoped>\n",
       "    .dataframe tbody tr th:only-of-type {\n",
       "        vertical-align: middle;\n",
       "    }\n",
       "\n",
       "    .dataframe tbody tr th {\n",
       "        vertical-align: top;\n",
       "    }\n",
       "\n",
       "    .dataframe thead th {\n",
       "        text-align: right;\n",
       "    }\n",
       "</style>\n",
       "<table border=\"1\" class=\"dataframe\">\n",
       "  <thead>\n",
       "    <tr style=\"text-align: right;\">\n",
       "      <th>xpregnant</th>\n",
       "      <th>0</th>\n",
       "      <th>1</th>\n",
       "      <th>2</th>\n",
       "      <th>3</th>\n",
       "      <th>4</th>\n",
       "      <th>5</th>\n",
       "      <th>6</th>\n",
       "      <th>7</th>\n",
       "      <th>8</th>\n",
       "      <th>9</th>\n",
       "      <th>10</th>\n",
       "      <th>11</th>\n",
       "      <th>12</th>\n",
       "      <th>13</th>\n",
       "      <th>14</th>\n",
       "      <th>15</th>\n",
       "      <th>17</th>\n",
       "    </tr>\n",
       "    <tr>\n",
       "      <th>diabetes</th>\n",
       "      <th></th>\n",
       "      <th></th>\n",
       "      <th></th>\n",
       "      <th></th>\n",
       "      <th></th>\n",
       "      <th></th>\n",
       "      <th></th>\n",
       "      <th></th>\n",
       "      <th></th>\n",
       "      <th></th>\n",
       "      <th></th>\n",
       "      <th></th>\n",
       "      <th></th>\n",
       "      <th></th>\n",
       "      <th></th>\n",
       "      <th></th>\n",
       "      <th></th>\n",
       "    </tr>\n",
       "  </thead>\n",
       "  <tbody>\n",
       "    <tr>\n",
       "      <th>0</th>\n",
       "      <td>37</td>\n",
       "      <td>73</td>\n",
       "      <td>52</td>\n",
       "      <td>26</td>\n",
       "      <td>21</td>\n",
       "      <td>13</td>\n",
       "      <td>15</td>\n",
       "      <td>10</td>\n",
       "      <td>3</td>\n",
       "      <td>5</td>\n",
       "      <td>3</td>\n",
       "      <td>0</td>\n",
       "      <td>2</td>\n",
       "      <td>2</td>\n",
       "      <td>0</td>\n",
       "      <td>0</td>\n",
       "      <td>0</td>\n",
       "    </tr>\n",
       "    <tr>\n",
       "      <th>1</th>\n",
       "      <td>19</td>\n",
       "      <td>20</td>\n",
       "      <td>12</td>\n",
       "      <td>19</td>\n",
       "      <td>6</td>\n",
       "      <td>8</td>\n",
       "      <td>4</td>\n",
       "      <td>10</td>\n",
       "      <td>11</td>\n",
       "      <td>6</td>\n",
       "      <td>3</td>\n",
       "      <td>5</td>\n",
       "      <td>3</td>\n",
       "      <td>1</td>\n",
       "      <td>1</td>\n",
       "      <td>1</td>\n",
       "      <td>1</td>\n",
       "    </tr>\n",
       "  </tbody>\n",
       "</table>\n",
       "</div>"
      ],
      "text/plain": [
       "xpregnant  0   1   2   3   4   5   6   7   8   9   10  11  12  13  14  15  17\n",
       "diabetes                                                                     \n",
       "0          37  73  52  26  21  13  15  10   3   5   3   0   2   2   0   0   0\n",
       "1          19  20  12  19   6   8   4  10  11   6   3   5   3   1   1   1   1"
      ]
     },
     "execution_count": 12,
     "metadata": {},
     "output_type": "execute_result"
    }
   ],
   "source": [
    "pd.crosstab(df['diabetes'], df['xpregnant'])"
   ]
  },
  {
   "cell_type": "markdown",
   "metadata": {},
   "source": [
    "### Set up X and Y"
   ]
  },
  {
   "cell_type": "code",
   "execution_count": 13,
   "metadata": {},
   "outputs": [],
   "source": [
    "Y = df['diabetes']\n",
    "X = df[['glucose','bmi']]"
   ]
  },
  {
   "cell_type": "markdown",
   "metadata": {},
   "source": [
    "## Decision Tree"
   ]
  },
  {
   "cell_type": "code",
   "execution_count": 14,
   "metadata": {},
   "outputs": [],
   "source": [
    "from sklearn import tree\n",
    "clf= tree.DecisionTreeClassifier(max_depth=2, random_state = 0)\n",
    "clf= clf.fit(X, Y)"
   ]
  },
  {
   "cell_type": "code",
   "execution_count": 15,
   "metadata": {},
   "outputs": [
    {
     "data": {
      "text/plain": [
       "[Text(0.5, 0.8333333333333334, 'glucose <= 127.5\\ngini = 0.443\\nsamples = 392\\nvalue = [262, 130]'),\n",
       " Text(0.25, 0.5, 'bmi <= 45.4\\ngini = 0.254\\nsamples = 241\\nvalue = [205, 36]'),\n",
       " Text(0.125, 0.16666666666666666, 'gini = 0.232\\nsamples = 232\\nvalue = [201, 31]'),\n",
       " Text(0.375, 0.16666666666666666, 'gini = 0.494\\nsamples = 9\\nvalue = [4, 5]'),\n",
       " Text(0.75, 0.5, 'glucose <= 165.5\\ngini = 0.47\\nsamples = 151\\nvalue = [57, 94]'),\n",
       " Text(0.625, 0.16666666666666666, 'gini = 0.5\\nsamples = 105\\nvalue = [52, 53]'),\n",
       " Text(0.875, 0.16666666666666666, 'gini = 0.194\\nsamples = 46\\nvalue = [5, 41]')]"
      ]
     },
     "execution_count": 15,
     "metadata": {},
     "output_type": "execute_result"
    },
    {
     "data": {
      "image/png": "[encoded data removed]",
      "text/plain": [
       "<Figure size 1600x800 with 1 Axes>"
      ]
     },
     "metadata": {},
     "output_type": "display_data"
    }
   ],
   "source": [
    "plt.figure(figsize=(16,8))\n",
    "tree.plot_tree(clf,feature_names=['glucose', 'bmi'])"
   ]
  },
  {
   "cell_type": "markdown",
   "metadata": {},
   "source": [
    "Interpretation:\n",
    "* Left path (for women who have a glucose level <= 127.5, 205/(205+36)=(85/1\\%) do not have diabetes and 36/(205+36)= (14/9\\%)  have diabetes\n",
    "  * for women who have bmi<=45.5, 201/(201+31)=(86.6\\%) do not have diabetes and 31/(201+31)=(13.4\\%) have diabetes \n",
    "  * for women whose bmi>45.4, 4/(4+5)= (44.4\\%) do not have diabetes and 5/(4+5)= (55.6\\%) have diabetes\n",
    "* Right path (for women who have a glucose level > 127.5, 57/(57+94)=(37.8\\%) do not have diabetes and 94/(57+94)=(62.2\\%) have diabetes\n",
    "  * for women whose glucose is between 127.5 and 165.6, 52/(52+53)=(49.5\\%) do not have diabetesand 53/(52+53)=(50.5\\%) have diabetes\n",
    "  * for women who glucose is higher than 165.5, 5/(5+41)=(10.9\\%) do not have diabetes and 41/(5+41)=(89.1\\%) have diabetes\n",
    "\n",
    "So clearly there is a relationship between glucose (which is a type of sugar) and diabetes.  Of course, diabetes _is_ actually the inability of the body to process sugar (i.e., low insulin levels), so this shouldn't be too surprising.  \n"
   ]
  },
  {
   "cell_type": "markdown",
   "metadata": {},
   "source": [
    "## Feature importance"
   ]
  },
  {
   "cell_type": "markdown",
   "metadata": {},
   "source": [
    "Between the two features--glucose and bmi--which is more probative?  That is, which one is more important in predicting whether or not someone has diabetes?"
   ]
  },
  {
   "cell_type": "code",
   "execution_count": 16,
   "metadata": {},
   "outputs": [
    {
     "data": {
      "text/plain": [
       "array([0.94309155, 0.05690845])"
      ]
     },
     "execution_count": 16,
     "metadata": {},
     "output_type": "execute_result"
    }
   ],
   "source": [
    "clf.feature_importances_"
   ]
  },
  {
   "cell_type": "markdown",
   "metadata": {},
   "source": [
    "The above indicates that glucose is 94.3% important, while bmi is only 5.7% important in classifying whether or not someone has diabetes."
   ]
  },
  {
   "cell_type": "markdown",
   "metadata": {},
   "source": [
    "## Predicting an outcome using a decision tree.\n"
   ]
  },
  {
   "cell_type": "markdown",
   "metadata": {},
   "source": [
    "**Probability of non diabetes and probability of diabetes**\n",
    "\n",
    "Use the decision tree model to predict the probability that someone will have diabetes. If we have a woman with a glucose of 122 and bmi of 56 , find the probability of being diabetic?"
   ]
  },
  {
   "cell_type": "code",
   "execution_count": 17,
   "metadata": {},
   "outputs": [
    {
     "name": "stdout",
     "output_type": "stream",
     "text": [
      "[[0.44444444 0.55555556]]\n"
     ]
    }
   ],
   "source": [
    "print(clf.predict_proba([[122,56]]))"
   ]
  },
  {
   "cell_type": "markdown",
   "metadata": {},
   "source": [
    "our model predicts a 44.4% chance that the women do not have diabetes and a 55.6% chance that the women has diabetes."
   ]
  },
  {
   "cell_type": "markdown",
   "metadata": {},
   "source": [
    "**The class of prediction**"
   ]
  },
  {
   "cell_type": "code",
   "execution_count": 18,
   "metadata": {},
   "outputs": [
    {
     "name": "stdout",
     "output_type": "stream",
     "text": [
      "[1]\n"
     ]
    }
   ],
   "source": [
    "print(clf.predict([[122, 56]]))"
   ]
  },
  {
   "cell_type": "markdown",
   "metadata": {},
   "source": [
    "Since 0 indicates a non diabetes and 1 indicates the person is diabetes, this indicates a positive result. The model predicts that the person with glucose 122 and bmi 56 has diabetes.\n"
   ]
  },
  {
   "cell_type": "markdown",
   "metadata": {},
   "source": [
    "## Confusion Matrix"
   ]
  },
  {
   "cell_type": "code",
   "execution_count": 19,
   "metadata": {
    "tags": []
   },
   "outputs": [
    {
     "data": {
      "text/plain": [
       "array([[201,  61],\n",
       "       [ 31,  99]], dtype=int64)"
      ]
     },
     "execution_count": 19,
     "metadata": {},
     "output_type": "execute_result"
    }
   ],
   "source": [
    "from sklearn.metrics import confusion_matrix\n",
    "predictions= clf.predict(X)\n",
    "cm = confusion_matrix(Y, predictions)\n",
    "cm"
   ]
  },
  {
   "cell_type": "markdown",
   "metadata": {
    "tags": []
   },
   "source": [
    "The scikit-learn convention is to put 0 by default for a negative class (top) and 1 for a positive class (bottom)"
   ]
  },
  {
   "cell_type": "markdown",
   "metadata": {},
   "source": [
    "* Of the people who do not have diabetes, we predicted **201** correctly.  They are the **\"True Negatives\"**.  \n",
    "* Of the people who have diabetes, we predicted **99** correctly.  They are the **\"True Positives\"**.  \n",
    "\n",
    "* Of the people who do not have diabetes, we predicted **61** to have dibetes (incorrectly). They are **\"False Positives\"**. \n",
    "* Of the people who have diabetes, we predicted **31** to be non-diabetes. They are **\"False Negatives\"**.\n",
    "\n"
   ]
  },
  {
   "attachments": {
    "f812d1fa-2c8b-45c6-a277-383a64efd164.png": {
     "image/png": "[encoded data removed]"
    }
   },
   "cell_type": "markdown",
   "metadata": {},
   "source": [
    "![confusion matrix.png](attachment:f812d1fa-2c8b-45c6-a277-383a64efd164.png)"
   ]
  },
  {
   "cell_type": "markdown",
   "metadata": {},
   "source": [
    "* **Negative Predictive value:** if our model predicts someone was not diabetic (sum of the first column, n=232), we would be correct 201/(201+31), or about 86.63% of the time.  That is a marginal improvement over 67%. Note that is also means our model gives a false negative 13.37% of the time. This is very bad because it means we have told someone with diabetes that they do not have the disease.\n",
    "* **Precision:** if our model predicts someone is diabetic (sum of the second column, n=160), we would be correct about 99/(99+61), or about 61.87% of the time. This is an improvement over the base of 33%. Note that is also means our model gives a false positive 38.13% of the time. This is  bad, because 38.13% of the time we are telling non-diabetics people that they have diabetes.  If we start them on insulin, etc., this would be very dangerous. \n",
    "\n",
    "Another way to look at the accuracy of our model is to consider how our model performs, if we already know the outcome (whether the person has diabetes):\n",
    "* **Specificity:** Given that someone is not diabetic (sum of the first row, n=262), our model will be correct 201/(201+61)= 76.7% of the time.\n",
    "* **Sensitivity/Recall:** And if someone is diabetic (sum of the second row, n=130), our model will be correct about 99/(31+99)= 76.15% of the time.\n"
   ]
  },
  {
   "cell_type": "markdown",
   "metadata": {},
   "source": [
    "## Model Accuracy:"
   ]
  },
  {
   "cell_type": "code",
   "execution_count": 20,
   "metadata": {},
   "outputs": [
    {
     "name": "stdout",
     "output_type": "stream",
     "text": [
      "you decision tree is 76.53% accurate\n"
     ]
    }
   ],
   "source": [
    "accuracy=clf.score(X,Y)\n",
    "print(\"you decision tree is {:.2f}% accurate\".format(accuracy*100))"
   ]
  },
  {
   "cell_type": "code",
   "execution_count": 21,
   "metadata": {},
   "outputs": [
    {
     "data": {
      "text/plain": [
       "0.7653061224489796"
      ]
     },
     "execution_count": 21,
     "metadata": {},
     "output_type": "execute_result"
    }
   ],
   "source": [
    "(201+99)/(201+99+31+61)"
   ]
  },
  {
   "cell_type": "markdown",
   "metadata": {},
   "source": [
    "## Classification Report"
   ]
  },
  {
   "cell_type": "code",
   "execution_count": 22,
   "metadata": {},
   "outputs": [
    {
     "name": "stdout",
     "output_type": "stream",
     "text": [
      "              precision    recall  f1-score   support\n",
      "\n",
      "     healthy       0.87      0.77      0.81       262\n",
      "    diabetic       0.62      0.76      0.68       130\n",
      "\n",
      "    accuracy                           0.77       392\n",
      "   macro avg       0.74      0.76      0.75       392\n",
      "weighted avg       0.78      0.77      0.77       392\n",
      "\n"
     ]
    }
   ],
   "source": [
    "from sklearn.metrics import classification_report\n",
    "X=['healthy','diabetic'] \n",
    "print(classification_report(Y, predictions, target_names=X))"
   ]
  },
  {
   "cell_type": "markdown",
   "metadata": {
    "tags": []
   },
   "source": [
    "* Precision: when we know the model's prediction, how accurate does it predict the true outcome?\n",
    "  * Percent of positive predictions that are actually correct\n",
    "  * Used a lot in medical screening and drug testing\n",
    "  * Used to minimize chance of false positives (predict they have diabetes when they dont)\n",
    "  \n",
    "* Recall (or sensitivity): When we know the actual outcome, how often does the model predict it correctly?\n",
    "  * Percent of actual positives that are correctly predicted\n",
    "  * Used widely in fraud detection\n",
    "  * Use to minimize chance of false negatives (predict they dont have diabetes when they do)\n",
    "\n",
    "* F1 is a composite score of the test's precision and recall."
   ]
  },
  {
   "cell_type": "code",
   "execution_count": 23,
   "metadata": {},
   "outputs": [
    {
     "name": "stdout",
     "output_type": "stream",
     "text": [
      "[[0.86637931 0.13362069]]\n"
     ]
    }
   ],
   "source": [
    "print(clf.predict_proba([[122,35]]))\n"
   ]
  },
  {
   "cell_type": "code",
   "execution_count": 24,
   "metadata": {},
   "outputs": [
    {
     "name": "stdout",
     "output_type": "stream",
     "text": [
      "[0]\n"
     ]
    }
   ],
   "source": [
    "print(clf.predict([[122, 35]]))"
   ]
  },
  {
   "cell_type": "code",
   "execution_count": null,
   "metadata": {},
   "outputs": [],
   "source": []
  }
 ],
 "metadata": {
  "kernelspec": {
   "display_name": "Python 3 (ipykernel)",
   "language": "python",
   "name": "python3"
  },
  "language_info": {
   "codemirror_mode": {
    "name": "ipython",
    "version": 3
   },
   "file_extension": ".py",
   "mimetype": "text/x-python",
   "name": "python",
   "nbconvert_exporter": "python",
   "pygments_lexer": "ipython3",
   "version": "3.10.9"
  }
 },
 "nbformat": 4,
 "nbformat_minor": 4
}
